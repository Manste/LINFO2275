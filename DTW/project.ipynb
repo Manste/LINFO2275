{
 "cells": [
  {
   "cell_type": "code",
   "execution_count": 4,
   "id": "1e89fa0e",
   "metadata": {},
   "outputs": [],
   "source": [
    "import numpy as np\n",
    "from os import walk\n",
    "\n",
    "class Dataset:\n",
    "    def __init__(self, dir_path=\"Sketch-Data-master/SketchData/SketchData/Domain01\"):\n",
    "        self.data = [[[] for _ in range(10)] for _ in range(10)]\n",
    "        \n",
    "        for i in range(1000):\n",
    "            filepath = \"{}/{}.txt\".format(dir_path, i+1)\n",
    "            try:\n",
    "                lines = [line.strip() for line in open(filepath, \"r\")]\n",
    "                class_id =  int(lines[1][len(lines[1]) - 1])\n",
    "                user_id = int(lines[2][len(lines[2]) - 1])\n",
    "                user_data = []\n",
    "                for i, line in enumerate(lines[5:]):\n",
    "                    if line:\n",
    "                            user_data.append(list(map(float, line.split(','))))\n",
    "                    self.data[user_id - 1][class_id - 1].append(user_data)\n",
    "            except IOError as e:\n",
    "                print(\"Unable to read dataset file!\\n\".format(filname))\n",
    "\n",
    "    def get_user(self, index):\n",
    "        \"\"\"Returns an array containing all the data saved for the user <<index>>\"\"\"\n",
    "        return len(self.data[index])\n"
   ]
  },
  {
   "cell_type": "code",
   "execution_count": 2,
   "id": "0edf89c4",
   "metadata": {},
   "outputs": [],
   "source": [
    "dataset = Dataset()"
   ]
  },
  {
   "cell_type": "code",
   "execution_count": null,
   "id": "991f787a",
   "metadata": {},
   "outputs": [],
   "source": [
    "dataset.data"
   ]
  },
  {
   "cell_type": "code",
   "execution_count": null,
   "id": "6468f76f",
   "metadata": {},
   "outputs": [],
   "source": []
  }
 ],
 "metadata": {
  "kernelspec": {
   "display_name": "Python 3 (ipykernel)",
   "language": "python",
   "name": "python3"
  },
  "language_info": {
   "codemirror_mode": {
    "name": "ipython",
    "version": 3
   },
   "file_extension": ".py",
   "mimetype": "text/x-python",
   "name": "python",
   "nbconvert_exporter": "python",
   "pygments_lexer": "ipython3",
   "version": "3.8.5"
  }
 },
 "nbformat": 4,
 "nbformat_minor": 5
}
